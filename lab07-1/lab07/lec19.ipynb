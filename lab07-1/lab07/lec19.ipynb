{
 "cells": [
  {
   "cell_type": "code",
   "execution_count": 1,
   "metadata": {},
   "outputs": [],
   "source": [
    "from datascience import *\n",
    "import numpy as np\n",
    "\n",
    "%matplotlib inline\n",
    "import matplotlib.pyplot as plots\n",
    "plots.style.use('fivethirtyeight')\n",
    "\n",
    "import warnings\n",
    "warnings.simplefilter(\"ignore\")"
   ]
  },
  {
   "cell_type": "markdown",
   "metadata": {},
   "source": [
    "# Comparing Two Samples"
   ]
  },
  {
   "cell_type": "code",
   "execution_count": 2,
   "metadata": {},
   "outputs": [],
   "source": [
    "births = Table.read_table('baby.csv')"
   ]
  },
  {
   "cell_type": "code",
   "execution_count": 3,
   "metadata": {},
   "outputs": [
    {
     "data": {
      "text/html": [
       "<table border=\"1\" class=\"dataframe\">\n",
       "    <thead>\n",
       "        <tr>\n",
       "            <th>Birth Weight</th> <th>Gestational Days</th> <th>Maternal Age</th> <th>Maternal Height</th> <th>Maternal Pregnancy Weight</th> <th>Maternal Smoker</th>\n",
       "        </tr>\n",
       "    </thead>\n",
       "    <tbody>\n",
       "        <tr>\n",
       "            <td>120         </td> <td>284             </td> <td>27          </td> <td>62             </td> <td>100                      </td> <td>False          </td>\n",
       "        </tr>\n",
       "        <tr>\n",
       "            <td>113         </td> <td>282             </td> <td>33          </td> <td>64             </td> <td>135                      </td> <td>False          </td>\n",
       "        </tr>\n",
       "        <tr>\n",
       "            <td>128         </td> <td>279             </td> <td>28          </td> <td>64             </td> <td>115                      </td> <td>True           </td>\n",
       "        </tr>\n",
       "        <tr>\n",
       "            <td>108         </td> <td>282             </td> <td>23          </td> <td>67             </td> <td>125                      </td> <td>True           </td>\n",
       "        </tr>\n",
       "        <tr>\n",
       "            <td>136         </td> <td>286             </td> <td>25          </td> <td>62             </td> <td>93                       </td> <td>False          </td>\n",
       "        </tr>\n",
       "        <tr>\n",
       "            <td>138         </td> <td>244             </td> <td>33          </td> <td>62             </td> <td>178                      </td> <td>False          </td>\n",
       "        </tr>\n",
       "        <tr>\n",
       "            <td>132         </td> <td>245             </td> <td>23          </td> <td>65             </td> <td>140                      </td> <td>False          </td>\n",
       "        </tr>\n",
       "        <tr>\n",
       "            <td>120         </td> <td>289             </td> <td>25          </td> <td>62             </td> <td>125                      </td> <td>False          </td>\n",
       "        </tr>\n",
       "        <tr>\n",
       "            <td>143         </td> <td>299             </td> <td>30          </td> <td>66             </td> <td>136                      </td> <td>True           </td>\n",
       "        </tr>\n",
       "        <tr>\n",
       "            <td>140         </td> <td>351             </td> <td>27          </td> <td>68             </td> <td>120                      </td> <td>False          </td>\n",
       "        </tr>\n",
       "    </tbody>\n",
       "</table>\n",
       "<p>... (1164 rows omitted)</p>"
      ],
      "text/plain": [
       "Birth Weight | Gestational Days | Maternal Age | Maternal Height | Maternal Pregnancy Weight | Maternal Smoker\n",
       "120          | 284              | 27           | 62              | 100                       | False\n",
       "113          | 282              | 33           | 64              | 135                       | False\n",
       "128          | 279              | 28           | 64              | 115                       | True\n",
       "108          | 282              | 23           | 67              | 125                       | True\n",
       "136          | 286              | 25           | 62              | 93                        | False\n",
       "138          | 244              | 33           | 62              | 178                       | False\n",
       "132          | 245              | 23           | 65              | 140                       | False\n",
       "120          | 289              | 25           | 62              | 125                       | False\n",
       "143          | 299              | 30           | 66              | 136                       | True\n",
       "140          | 351              | 27           | 68              | 120                       | False\n",
       "... (1164 rows omitted)"
      ]
     },
     "execution_count": 3,
     "metadata": {},
     "output_type": "execute_result"
    }
   ],
   "source": [
    "births"
   ]
  },
  {
   "cell_type": "code",
   "execution_count": 4,
   "metadata": {},
   "outputs": [],
   "source": [
    "smoking_and_birthweight = births.select('Maternal Smoker', 'Birth Weight')"
   ]
  },
  {
   "cell_type": "code",
   "execution_count": 5,
   "metadata": {},
   "outputs": [
    {
     "data": {
      "text/html": [
       "<table border=\"1\" class=\"dataframe\">\n",
       "    <thead>\n",
       "        <tr>\n",
       "            <th>Maternal Smoker</th> <th>count</th>\n",
       "        </tr>\n",
       "    </thead>\n",
       "    <tbody>\n",
       "        <tr>\n",
       "            <td>False          </td> <td>715  </td>\n",
       "        </tr>\n",
       "        <tr>\n",
       "            <td>True           </td> <td>459  </td>\n",
       "        </tr>\n",
       "    </tbody>\n",
       "</table>"
      ],
      "text/plain": [
       "Maternal Smoker | count\n",
       "False           | 715\n",
       "True            | 459"
      ]
     },
     "execution_count": 5,
     "metadata": {},
     "output_type": "execute_result"
    }
   ],
   "source": [
    "smoking_and_birthweight.group('Maternal Smoker')"
   ]
  },
  {
   "cell_type": "code",
   "execution_count": 6,
   "metadata": {},
   "outputs": [
    {
     "data": {
      "image/png": "[encoded data removed]",
      "text/plain": [
       "<Figure size 600x400 with 1 Axes>"
      ]
     },
     "metadata": {},
     "output_type": "display_data"
    }
   ],
   "source": [
    "smoking_and_birthweight.hist('Birth Weight', group='Maternal Smoker')"
   ]
  },
  {
   "cell_type": "markdown",
   "metadata": {},
   "source": [
    "# Test Statistic\n",
    "\n",
    "[Question] What values of our statistic are in favor of the alternative: positive or negative?"
   ]
  },
  {
   "cell_type": "code",
   "execution_count": 7,
   "metadata": {},
   "outputs": [
    {
     "data": {
      "text/html": [
       "<table border=\"1\" class=\"dataframe\">\n",
       "    <thead>\n",
       "        <tr>\n",
       "            <th>Maternal Smoker</th> <th>Birth Weight average</th>\n",
       "        </tr>\n",
       "    </thead>\n",
       "    <tbody>\n",
       "        <tr>\n",
       "            <td>False          </td> <td>123.085             </td>\n",
       "        </tr>\n",
       "        <tr>\n",
       "            <td>True           </td> <td>113.819             </td>\n",
       "        </tr>\n",
       "    </tbody>\n",
       "</table>"
      ],
      "text/plain": [
       "Maternal Smoker | Birth Weight average\n",
       "False           | 123.085\n",
       "True            | 113.819"
      ]
     },
     "execution_count": 7,
     "metadata": {},
     "output_type": "execute_result"
    }
   ],
   "source": [
    "means_table = smoking_and_birthweight.group('Maternal Smoker', np.average)\n",
    "means_table"
   ]
  },
  {
   "cell_type": "code",
   "execution_count": 8,
   "metadata": {},
   "outputs": [
    {
     "data": {
      "text/plain": [
       "-9.266142572024918"
      ]
     },
     "execution_count": 8,
     "metadata": {},
     "output_type": "execute_result"
    }
   ],
   "source": [
    "means = means_table.column(1)\n",
    "observed_difference = means.item(1) - means.item(0)\n",
    "observed_difference"
   ]
  },
  {
   "cell_type": "code",
   "execution_count": 9,
   "metadata": {},
   "outputs": [],
   "source": [
    "def difference_of_means(table, numeric_label, category_label):\n",
    "    \"\"\"\n",
    "    Takes: \n",
    "       - name of table\n",
    "       - column label of numerical variable\n",
    "       - column label of categorical variable\n",
    "       \n",
    "    Returns: Difference of means of the two groups\n",
    "    \"\"\"\n",
    "    \n",
    "    #table with the two relevant columns\n",
    "    reduced = table.select(numeric_label, category_label)  \n",
    "    \n",
    "    # table containing group means\n",
    "    means_table = reduced.group(category_label, np.average)\n",
    "    \n",
    "    # array of group means\n",
    "    means = means_table.column(1)\n",
    "    \n",
    "    return means.item(1) - means.item(0)"
   ]
  },
  {
   "cell_type": "code",
   "execution_count": 10,
   "metadata": {},
   "outputs": [
    {
     "data": {
      "text/plain": [
       "-9.266142572024918"
      ]
     },
     "execution_count": 10,
     "metadata": {},
     "output_type": "execute_result"
    }
   ],
   "source": [
    "difference_of_means(births, 'Birth Weight', 'Maternal Smoker')"
   ]
  },
  {
   "cell_type": "markdown",
   "metadata": {},
   "source": [
    "# Random Permutation (Shuffling)"
   ]
  },
  {
   "cell_type": "code",
   "execution_count": 11,
   "metadata": {},
   "outputs": [],
   "source": [
    "staff = Table().with_columns(\n",
    "    'Names', make_array('Jim', 'Pam', 'Dwight', 'Michael'),\n",
    "    'Ages', make_array(29, 28, 34, 41)\n",
    ")"
   ]
  },
  {
   "cell_type": "code",
   "execution_count": 12,
   "metadata": {},
   "outputs": [
    {
     "data": {
      "text/html": [
       "<table border=\"1\" class=\"dataframe\">\n",
       "    <thead>\n",
       "        <tr>\n",
       "            <th>Names</th> <th>Ages</th>\n",
       "        </tr>\n",
       "    </thead>\n",
       "    <tbody>\n",
       "        <tr>\n",
       "            <td>Pam   </td> <td>28  </td>\n",
       "        </tr>\n",
       "        <tr>\n",
       "            <td>Jim   </td> <td>29  </td>\n",
       "        </tr>\n",
       "        <tr>\n",
       "            <td>Dwight</td> <td>34  </td>\n",
       "        </tr>\n",
       "        <tr>\n",
       "            <td>Pam   </td> <td>28  </td>\n",
       "        </tr>\n",
       "    </tbody>\n",
       "</table>"
      ],
      "text/plain": [
       "Names  | Ages\n",
       "Pam    | 28\n",
       "Jim    | 29\n",
       "Dwight | 34\n",
       "Pam    | 28"
      ]
     },
     "execution_count": 12,
     "metadata": {},
     "output_type": "execute_result"
    }
   ],
   "source": [
    "staff.sample()"
   ]
  },
  {
   "cell_type": "code",
   "execution_count": 13,
   "metadata": {},
   "outputs": [
    {
     "data": {
      "text/html": [
       "<table border=\"1\" class=\"dataframe\">\n",
       "    <thead>\n",
       "        <tr>\n",
       "            <th>Names</th> <th>Ages</th>\n",
       "        </tr>\n",
       "    </thead>\n",
       "    <tbody>\n",
       "        <tr>\n",
       "            <td>Dwight </td> <td>34  </td>\n",
       "        </tr>\n",
       "        <tr>\n",
       "            <td>Jim    </td> <td>29  </td>\n",
       "        </tr>\n",
       "        <tr>\n",
       "            <td>Michael</td> <td>41  </td>\n",
       "        </tr>\n",
       "        <tr>\n",
       "            <td>Pam    </td> <td>28  </td>\n",
       "        </tr>\n",
       "    </tbody>\n",
       "</table>"
      ],
      "text/plain": [
       "Names   | Ages\n",
       "Dwight  | 34\n",
       "Jim     | 29\n",
       "Michael | 41\n",
       "Pam     | 28"
      ]
     },
     "execution_count": 13,
     "metadata": {},
     "output_type": "execute_result"
    }
   ],
   "source": [
    "staff.sample(with_replacement = False)"
   ]
  },
  {
   "cell_type": "code",
   "execution_count": 14,
   "metadata": {},
   "outputs": [
    {
     "data": {
      "text/html": [
       "<table border=\"1\" class=\"dataframe\">\n",
       "    <thead>\n",
       "        <tr>\n",
       "            <th>Names</th> <th>Ages</th> <th>Shuffled</th>\n",
       "        </tr>\n",
       "    </thead>\n",
       "    <tbody>\n",
       "        <tr>\n",
       "            <td>Jim    </td> <td>29  </td> <td>Pam     </td>\n",
       "        </tr>\n",
       "        <tr>\n",
       "            <td>Pam    </td> <td>28  </td> <td>Jim     </td>\n",
       "        </tr>\n",
       "        <tr>\n",
       "            <td>Dwight </td> <td>34  </td> <td>Michael </td>\n",
       "        </tr>\n",
       "        <tr>\n",
       "            <td>Michael</td> <td>41  </td> <td>Dwight  </td>\n",
       "        </tr>\n",
       "    </tbody>\n",
       "</table>"
      ],
      "text/plain": [
       "Names   | Ages | Shuffled\n",
       "Jim     | 29   | Pam\n",
       "Pam     | 28   | Jim\n",
       "Dwight  | 34   | Michael\n",
       "Michael | 41   | Dwight"
      ]
     },
     "execution_count": 14,
     "metadata": {},
     "output_type": "execute_result"
    }
   ],
   "source": [
    "staff.with_column('Shuffled', staff.sample(with_replacement = False).column(0))"
   ]
  },
  {
   "cell_type": "markdown",
   "metadata": {},
   "source": [
    "# Simulation Under Null Hypothesis"
   ]
  },
  {
   "cell_type": "code",
   "execution_count": 15,
   "metadata": {},
   "outputs": [
    {
     "data": {
      "text/html": [
       "<table border=\"1\" class=\"dataframe\">\n",
       "    <thead>\n",
       "        <tr>\n",
       "            <th>Maternal Smoker</th> <th>Birth Weight</th>\n",
       "        </tr>\n",
       "    </thead>\n",
       "    <tbody>\n",
       "        <tr>\n",
       "            <td>False          </td> <td>120         </td>\n",
       "        </tr>\n",
       "        <tr>\n",
       "            <td>False          </td> <td>113         </td>\n",
       "        </tr>\n",
       "        <tr>\n",
       "            <td>True           </td> <td>128         </td>\n",
       "        </tr>\n",
       "        <tr>\n",
       "            <td>True           </td> <td>108         </td>\n",
       "        </tr>\n",
       "        <tr>\n",
       "            <td>False          </td> <td>136         </td>\n",
       "        </tr>\n",
       "        <tr>\n",
       "            <td>False          </td> <td>138         </td>\n",
       "        </tr>\n",
       "        <tr>\n",
       "            <td>False          </td> <td>132         </td>\n",
       "        </tr>\n",
       "        <tr>\n",
       "            <td>False          </td> <td>120         </td>\n",
       "        </tr>\n",
       "        <tr>\n",
       "            <td>True           </td> <td>143         </td>\n",
       "        </tr>\n",
       "        <tr>\n",
       "            <td>False          </td> <td>140         </td>\n",
       "        </tr>\n",
       "    </tbody>\n",
       "</table>\n",
       "<p>... (1164 rows omitted)</p>"
      ],
      "text/plain": [
       "Maternal Smoker | Birth Weight\n",
       "False           | 120\n",
       "False           | 113\n",
       "True            | 128\n",
       "True            | 108\n",
       "False           | 136\n",
       "False           | 138\n",
       "False           | 132\n",
       "False           | 120\n",
       "True            | 143\n",
       "False           | 140\n",
       "... (1164 rows omitted)"
      ]
     },
     "execution_count": 15,
     "metadata": {},
     "output_type": "execute_result"
    }
   ],
   "source": [
    "smoking_and_birthweight"
   ]
  },
  {
   "cell_type": "code",
   "execution_count": 16,
   "metadata": {},
   "outputs": [],
   "source": [
    "shuffled_labels = smoking_and_birthweight.sample(with_replacement=False).column('Maternal Smoker')"
   ]
  },
  {
   "cell_type": "code",
   "execution_count": 17,
   "metadata": {},
   "outputs": [],
   "source": [
    "original_and_shuffled = smoking_and_birthweight.with_column(\n",
    "    'Shuffled Label', shuffled_labels\n",
    ")"
   ]
  },
  {
   "cell_type": "code",
   "execution_count": 18,
   "metadata": {},
   "outputs": [
    {
     "data": {
      "text/html": [
       "<table border=\"1\" class=\"dataframe\">\n",
       "    <thead>\n",
       "        <tr>\n",
       "            <th>Maternal Smoker</th> <th>Birth Weight</th> <th>Shuffled Label</th>\n",
       "        </tr>\n",
       "    </thead>\n",
       "    <tbody>\n",
       "        <tr>\n",
       "            <td>False          </td> <td>120         </td> <td>True          </td>\n",
       "        </tr>\n",
       "        <tr>\n",
       "            <td>False          </td> <td>113         </td> <td>True          </td>\n",
       "        </tr>\n",
       "        <tr>\n",
       "            <td>True           </td> <td>128         </td> <td>True          </td>\n",
       "        </tr>\n",
       "        <tr>\n",
       "            <td>True           </td> <td>108         </td> <td>False         </td>\n",
       "        </tr>\n",
       "        <tr>\n",
       "            <td>False          </td> <td>136         </td> <td>False         </td>\n",
       "        </tr>\n",
       "        <tr>\n",
       "            <td>False          </td> <td>138         </td> <td>False         </td>\n",
       "        </tr>\n",
       "        <tr>\n",
       "            <td>False          </td> <td>132         </td> <td>True          </td>\n",
       "        </tr>\n",
       "        <tr>\n",
       "            <td>False          </td> <td>120         </td> <td>False         </td>\n",
       "        </tr>\n",
       "        <tr>\n",
       "            <td>True           </td> <td>143         </td> <td>True          </td>\n",
       "        </tr>\n",
       "        <tr>\n",
       "            <td>False          </td> <td>140         </td> <td>False         </td>\n",
       "        </tr>\n",
       "    </tbody>\n",
       "</table>\n",
       "<p>... (1164 rows omitted)</p>"
      ],
      "text/plain": [
       "Maternal Smoker | Birth Weight | Shuffled Label\n",
       "False           | 120          | True\n",
       "False           | 113          | True\n",
       "True            | 128          | True\n",
       "True            | 108          | False\n",
       "False           | 136          | False\n",
       "False           | 138          | False\n",
       "False           | 132          | True\n",
       "False           | 120          | False\n",
       "True            | 143          | True\n",
       "False           | 140          | False\n",
       "... (1164 rows omitted)"
      ]
     },
     "execution_count": 18,
     "metadata": {},
     "output_type": "execute_result"
    }
   ],
   "source": [
    "original_and_shuffled"
   ]
  },
  {
   "cell_type": "code",
   "execution_count": 19,
   "metadata": {},
   "outputs": [
    {
     "data": {
      "text/plain": [
       "-0.5483827719121876"
      ]
     },
     "execution_count": 19,
     "metadata": {},
     "output_type": "execute_result"
    }
   ],
   "source": [
    "difference_of_means(original_and_shuffled, 'Birth Weight', 'Shuffled Label')"
   ]
  },
  {
   "cell_type": "code",
   "execution_count": 20,
   "metadata": {},
   "outputs": [
    {
     "data": {
      "text/plain": [
       "-9.266142572024918"
      ]
     },
     "execution_count": 20,
     "metadata": {},
     "output_type": "execute_result"
    }
   ],
   "source": [
    "difference_of_means(original_and_shuffled, 'Birth Weight', 'Maternal Smoker')"
   ]
  },
  {
   "cell_type": "markdown",
   "metadata": {},
   "source": [
    "# Permutation Test"
   ]
  },
  {
   "cell_type": "code",
   "execution_count": 21,
   "metadata": {},
   "outputs": [],
   "source": [
    "def one_simulated_difference(table, numeric_label, category_label):\n",
    "    \"\"\"\n",
    "    Takes: \n",
    "       - name of table\n",
    "       - column label of numerical variable\n",
    "       - column label of categorical variable\n",
    "       \n",
    "    Returns: Difference of means of the two groups\n",
    "    \"\"\"\n",
    "    \n",
    "    # array of shuffled labels\n",
    "    shuffled_labels = table.sample(with_replacement = False).column(category_label)\n",
    "    \n",
    "    # table of numerical variable and shuffled labels\n",
    "    shuffled_table = table.select(numeric_label).with_column('Shuffled Label', shuffled_labels)\n",
    "    \n",
    "    return difference_of_means(shuffled_table, numeric_label, 'Shuffled Label')   "
   ]
  },
  {
   "cell_type": "code",
   "execution_count": 22,
   "metadata": {},
   "outputs": [
    {
     "data": {
      "text/plain": [
       "0.16349010466657887"
      ]
     },
     "execution_count": 22,
     "metadata": {},
     "output_type": "execute_result"
    }
   ],
   "source": [
    "one_simulated_difference(births, 'Birth Weight', 'Maternal Smoker')"
   ]
  },
  {
   "cell_type": "code",
   "execution_count": 23,
   "metadata": {},
   "outputs": [],
   "source": [
    "differences = make_array()\n",
    "\n",
    "for i in np.arange(2500):\n",
    "    new_difference = one_simulated_difference(births, 'Birth Weight', 'Maternal Smoker')\n",
    "    differences = np.append(differences, new_difference)"
   ]
  },
  {
   "cell_type": "code",
   "execution_count": 24,
   "metadata": {},
   "outputs": [
    {
     "name": "stdout",
     "output_type": "stream",
     "text": [
      "Observed Difference: -9.266142572024918\n"
     ]
    },
    {
     "data": {
      "image/png": "[encoded data removed]",
      "text/plain": [
       "<Figure size 600x400 with 1 Axes>"
      ]
     },
     "metadata": {},
     "output_type": "display_data"
    }
   ],
   "source": [
    "Table().with_column('Difference Between Group Means', differences).hist()\n",
    "print('Observed Difference:', observed_difference)\n",
    "plots.title('Prediction Under the Null Hypothesis');"
   ]
  },
  {
   "cell_type": "code",
   "execution_count": null,
   "metadata": {},
   "outputs": [],
   "source": []
  }
 ],
 "metadata": {
  "kernelspec": {
   "display_name": "Python 3",
   "language": "python",
   "name": "python3"
  },
  "language_info": {
   "codemirror_mode": {
    "name": "ipython",
    "version": 3
   },
   "file_extension": ".py",
   "mimetype": "text/x-python",
   "name": "python",
   "nbconvert_exporter": "python",
   "pygments_lexer": "ipython3",
   "version": "3.12.1"
  }
 },
 "nbformat": 4,
 "nbformat_minor": 2
}
