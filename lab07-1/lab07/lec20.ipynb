{
 "cells": [
  {
   "cell_type": "code",
   "execution_count": 1,
   "metadata": {},
   "outputs": [],
   "source": [
    "from datascience import *\n",
    "import numpy as np\n",
    "\n",
    "%matplotlib inline\n",
    "import matplotlib.pyplot as plots\n",
    "plots.style.use('fivethirtyeight')\n",
    "\n",
    "import warnings\n",
    "warnings.simplefilter(\"ignore\")"
   ]
  },
  {
   "cell_type": "markdown",
   "metadata": {},
   "source": [
    "## Review: Comparing Two Samples"
   ]
  },
  {
   "cell_type": "code",
   "execution_count": 2,
   "metadata": {},
   "outputs": [],
   "source": [
    "def difference_of_means(table, numeric_label, group_label):\n",
    "    \"\"\"\n",
    "    Takes: name of table, column label of numerical variable,\n",
    "    column label of group-label variable\n",
    "    \n",
    "    Returns: Difference of means of the two groups\n",
    "    \"\"\"\n",
    "    \n",
    "    #table with the two relevant columns\n",
    "    reduced = table.select(numeric_label, group_label)  \n",
    "    \n",
    "    # table containing group means\n",
    "    means_table = reduced.group(group_label, np.average)\n",
    "    \n",
    "    # array of group means\n",
    "    means = means_table.column(1)\n",
    "    \n",
    "    return means.item(1) - means.item(0)"
   ]
  },
  {
   "cell_type": "code",
   "execution_count": 3,
   "metadata": {},
   "outputs": [],
   "source": [
    "def one_simulated_difference(table, numeric_label, group_label):\n",
    "    \"\"\"\n",
    "    Takes: name of table, column label of numerical variable,\n",
    "    column label of group-label variable\n",
    "    \n",
    "    Returns: Difference of means of the two groups after shuffling labels\n",
    "    \"\"\"\n",
    "    \n",
    "    # array of shuffled labels\n",
    "    shuffled_labels = table.sample(\n",
    "        with_replacement = False).column(group_label)\n",
    "    \n",
    "    # table of numerical variable and shuffled labels\n",
    "    shuffled_table = table.select(numeric_label).with_column(\n",
    "        'Shuffled Label', shuffled_labels)\n",
    "    \n",
    "    return difference_of_means(\n",
    "        shuffled_table, numeric_label, 'Shuffled Label')   "
   ]
  },
  {
   "cell_type": "code",
   "execution_count": 4,
   "metadata": {},
   "outputs": [],
   "source": [
    "births = Table.read_table('baby.csv')"
   ]
  },
  {
   "cell_type": "code",
   "execution_count": 5,
   "metadata": {},
   "outputs": [
    {
     "data": {
      "text/html": [
       "<table border=\"1\" class=\"dataframe\">\n",
       "    <thead>\n",
       "        <tr>\n",
       "            <th>Maternal Smoker</th> <th>Birth Weight average</th> <th>Gestational Days average</th> <th>Maternal Age average</th> <th>Maternal Height average</th> <th>Maternal Pregnancy Weight average</th>\n",
       "        </tr>\n",
       "    </thead>\n",
       "    <tbody>\n",
       "        <tr>\n",
       "            <td>False          </td> <td>123.085             </td> <td>279.874                 </td> <td>27.5441             </td> <td>64.014                 </td> <td>129.48                           </td>\n",
       "        </tr>\n",
       "        <tr>\n",
       "            <td>True           </td> <td>113.819             </td> <td>277.898                 </td> <td>26.7364             </td> <td>64.1046                </td> <td>126.919                          </td>\n",
       "        </tr>\n",
       "    </tbody>\n",
       "</table>"
      ],
      "text/plain": [
       "Maternal Smoker | Birth Weight average | Gestational Days average | Maternal Age average | Maternal Height average | Maternal Pregnancy Weight average\n",
       "False           | 123.085              | 279.874                  | 27.5441              | 64.014                  | 129.48\n",
       "True            | 113.819              | 277.898                  | 26.7364              | 64.1046                 | 126.919"
      ]
     },
     "execution_count": 5,
     "metadata": {},
     "output_type": "execute_result"
    }
   ],
   "source": [
    "births.group('Maternal Smoker', np.average)"
   ]
  },
  {
   "cell_type": "markdown",
   "metadata": {},
   "source": [
    "# Randomized Control Experiment"
   ]
  },
  {
   "cell_type": "code",
   "execution_count": 6,
   "metadata": {},
   "outputs": [
    {
     "data": {
      "text/html": [
       "<table border=\"1\" class=\"dataframe\">\n",
       "    <thead>\n",
       "        <tr>\n",
       "            <th>Group</th> <th>Result</th>\n",
       "        </tr>\n",
       "    </thead>\n",
       "    <tbody>\n",
       "        <tr>\n",
       "            <td>Control  </td> <td>1     </td>\n",
       "        </tr>\n",
       "        <tr>\n",
       "            <td>Control  </td> <td>1     </td>\n",
       "        </tr>\n",
       "        <tr>\n",
       "            <td>Control  </td> <td>0     </td>\n",
       "        </tr>\n",
       "        <tr>\n",
       "            <td>Control  </td> <td>0     </td>\n",
       "        </tr>\n",
       "        <tr>\n",
       "            <td>Control  </td> <td>0     </td>\n",
       "        </tr>\n",
       "        <tr>\n",
       "            <td>Control  </td> <td>0     </td>\n",
       "        </tr>\n",
       "        <tr>\n",
       "            <td>Control  </td> <td>0     </td>\n",
       "        </tr>\n",
       "        <tr>\n",
       "            <td>Control  </td> <td>0     </td>\n",
       "        </tr>\n",
       "        <tr>\n",
       "            <td>Control  </td> <td>0     </td>\n",
       "        </tr>\n",
       "        <tr>\n",
       "            <td>Control  </td> <td>0     </td>\n",
       "        </tr>\n",
       "        <tr>\n",
       "            <td>Control  </td> <td>0     </td>\n",
       "        </tr>\n",
       "        <tr>\n",
       "            <td>Control  </td> <td>0     </td>\n",
       "        </tr>\n",
       "        <tr>\n",
       "            <td>Control  </td> <td>0     </td>\n",
       "        </tr>\n",
       "        <tr>\n",
       "            <td>Control  </td> <td>0     </td>\n",
       "        </tr>\n",
       "        <tr>\n",
       "            <td>Control  </td> <td>0     </td>\n",
       "        </tr>\n",
       "        <tr>\n",
       "            <td>Control  </td> <td>0     </td>\n",
       "        </tr>\n",
       "        <tr>\n",
       "            <td>Treatment</td> <td>1     </td>\n",
       "        </tr>\n",
       "        <tr>\n",
       "            <td>Treatment</td> <td>1     </td>\n",
       "        </tr>\n",
       "        <tr>\n",
       "            <td>Treatment</td> <td>1     </td>\n",
       "        </tr>\n",
       "        <tr>\n",
       "            <td>Treatment</td> <td>1     </td>\n",
       "        </tr>\n",
       "        <tr>\n",
       "            <td>Treatment</td> <td>1     </td>\n",
       "        </tr>\n",
       "        <tr>\n",
       "            <td>Treatment</td> <td>1     </td>\n",
       "        </tr>\n",
       "        <tr>\n",
       "            <td>Treatment</td> <td>1     </td>\n",
       "        </tr>\n",
       "        <tr>\n",
       "            <td>Treatment</td> <td>1     </td>\n",
       "        </tr>\n",
       "        <tr>\n",
       "            <td>Treatment</td> <td>1     </td>\n",
       "        </tr>\n",
       "        <tr>\n",
       "            <td>Treatment</td> <td>0     </td>\n",
       "        </tr>\n",
       "        <tr>\n",
       "            <td>Treatment</td> <td>0     </td>\n",
       "        </tr>\n",
       "        <tr>\n",
       "            <td>Treatment</td> <td>0     </td>\n",
       "        </tr>\n",
       "        <tr>\n",
       "            <td>Treatment</td> <td>0     </td>\n",
       "        </tr>\n",
       "        <tr>\n",
       "            <td>Treatment</td> <td>0     </td>\n",
       "        </tr>\n",
       "        <tr>\n",
       "            <td>Treatment</td> <td>0     </td>\n",
       "        </tr>\n",
       "    </tbody>\n",
       "</table>"
      ],
      "text/plain": [
       "<IPython.core.display.HTML object>"
      ]
     },
     "metadata": {},
     "output_type": "display_data"
    }
   ],
   "source": [
    "botox = Table.read_table('bta.csv')\n",
    "botox.show()"
   ]
  },
  {
   "cell_type": "code",
   "execution_count": 7,
   "metadata": {},
   "outputs": [
    {
     "data": {
      "text/html": [
       "<table border=\"1\" class=\"dataframe\">\n",
       "    <thead>\n",
       "        <tr>\n",
       "            <th>Group</th> <th>0.0</th> <th>1.0</th>\n",
       "        </tr>\n",
       "    </thead>\n",
       "    <tbody>\n",
       "        <tr>\n",
       "            <td>Control  </td> <td>14  </td> <td>2   </td>\n",
       "        </tr>\n",
       "        <tr>\n",
       "            <td>Treatment</td> <td>6   </td> <td>9   </td>\n",
       "        </tr>\n",
       "    </tbody>\n",
       "</table>"
      ],
      "text/plain": [
       "Group     | 0.0  | 1.0\n",
       "Control   | 14   | 2\n",
       "Treatment | 6    | 9"
      ]
     },
     "execution_count": 7,
     "metadata": {},
     "output_type": "execute_result"
    }
   ],
   "source": [
    "botox.pivot('Result', 'Group')"
   ]
  },
  {
   "cell_type": "code",
   "execution_count": 8,
   "metadata": {},
   "outputs": [
    {
     "data": {
      "text/html": [
       "<table border=\"1\" class=\"dataframe\">\n",
       "    <thead>\n",
       "        <tr>\n",
       "            <th>Group</th> <th>Result average</th>\n",
       "        </tr>\n",
       "    </thead>\n",
       "    <tbody>\n",
       "        <tr>\n",
       "            <td>Control  </td> <td>0.125         </td>\n",
       "        </tr>\n",
       "        <tr>\n",
       "            <td>Treatment</td> <td>0.6           </td>\n",
       "        </tr>\n",
       "    </tbody>\n",
       "</table>"
      ],
      "text/plain": [
       "Group     | Result average\n",
       "Control   | 0.125\n",
       "Treatment | 0.6"
      ]
     },
     "execution_count": 8,
     "metadata": {},
     "output_type": "execute_result"
    }
   ],
   "source": [
    "botox.group('Group', np.average)"
   ]
  },
  {
   "cell_type": "markdown",
   "metadata": {},
   "source": [
    "# Testing the Hypothesis"
   ]
  },
  {
   "cell_type": "code",
   "execution_count": 9,
   "metadata": {},
   "outputs": [
    {
     "data": {
      "text/plain": [
       "0.475"
      ]
     },
     "execution_count": 9,
     "metadata": {},
     "output_type": "execute_result"
    }
   ],
   "source": [
    "observed_diff = difference_of_means(botox, 'Result', 'Group')\n",
    "observed_diff"
   ]
  },
  {
   "cell_type": "code",
   "execution_count": 10,
   "metadata": {},
   "outputs": [
    {
     "data": {
      "text/plain": [
       "-0.041666666666666685"
      ]
     },
     "execution_count": 10,
     "metadata": {},
     "output_type": "execute_result"
    }
   ],
   "source": [
    "one_simulated_difference(botox, 'Result', 'Group')"
   ]
  },
  {
   "cell_type": "code",
   "execution_count": 11,
   "metadata": {},
   "outputs": [],
   "source": [
    "simulated_diffs = make_array()\n",
    "\n",
    "for i in np.arange(10000):\n",
    "    sim_diff = one_simulated_difference(botox, 'Result', 'Group')\n",
    "    simulated_diffs = np.append(simulated_diffs, sim_diff)"
   ]
  },
  {
   "cell_type": "code",
   "execution_count": 12,
   "metadata": {},
   "outputs": [
    {
     "data": {
      "image/png": "[encoded data removed]",
      "text/plain": [
       "<Figure size 600x400 with 1 Axes>"
      ]
     },
     "metadata": {},
     "output_type": "display_data"
    }
   ],
   "source": [
    "col_name = 'Distances between groups'\n",
    "Table().with_column(col_name, simulated_diffs).hist(col_name)"
   ]
  },
  {
   "cell_type": "code",
   "execution_count": 13,
   "metadata": {},
   "outputs": [
    {
     "data": {
      "text/plain": [
       "0.0077000000000000002"
      ]
     },
     "execution_count": 13,
     "metadata": {},
     "output_type": "execute_result"
    }
   ],
   "source": [
    "# p-value\n",
    "sum(simulated_diffs >= observed_diff)/len(simulated_diffs)"
   ]
  }
 ],
 "metadata": {
  "kernelspec": {
   "display_name": "Python 3",
   "language": "python",
   "name": "python3"
  },
  "language_info": {
   "codemirror_mode": {
    "name": "ipython",
    "version": 3
   },
   "file_extension": ".py",
   "mimetype": "text/x-python",
   "name": "python",
   "nbconvert_exporter": "python",
   "pygments_lexer": "ipython3",
   "version": "3.12.1"
  }
 },
 "nbformat": 4,
 "nbformat_minor": 2
}
