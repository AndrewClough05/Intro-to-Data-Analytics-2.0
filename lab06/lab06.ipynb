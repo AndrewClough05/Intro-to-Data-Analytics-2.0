{
 "cells": [
  {
   "cell_type": "code",
   "execution_count": 84,
   "metadata": {
    "deletable": false,
    "editable": false
   },
   "outputs": [],
   "source": [
    "# Initialize Otter\n",
    "import otter\n",
    "grader = otter.Notebook(\"lab06.ipynb\")"
   ]
  },
  {
   "cell_type": "markdown",
   "metadata": {},
   "source": [
    "# Lab 6: Examining the Therapeutic Touch\n",
    "\n",
    "Welcome to Lab 6! This assignment involves using statistical modeling, hypothesis testing, and simulation to analyze data and draw conclusions\n",
    "\n",
    "Recommended Reading:\n",
    "\n",
    "* [Assessing a Model](https://inferentialthinking.com/chapters/11/1/Assessing_a_Model.html)\n",
    "* [Empirical Distribution of a Statistic](https://inferentialthinking.com/chapters/10/3/Empirical_Distribution_of_a_Statistic.html)\n",
    "* [Random Sampling in Python](https://inferentialthinking.com/chapters/10/4/Random_Sampling_in_Python.html)\n",
    "* [Python Reference](https://www.data8.org/sp24/reference/)\n"
   ]
  },
  {
   "cell_type": "markdown",
   "metadata": {},
   "source": [
    "After such an extensive introduction to programming for data science, we are finally moving into the section of the course where we can apply our new skills to answer real questions.  \n",
    "\n",
    "In this lab, we'll use testing techniques that were introduced in lecture to test the idea of the therapeutic touch, the idea that some practitioner can feel and massage your human energy field. \n"
   ]
  },
  {
   "cell_type": "code",
   "execution_count": 85,
   "metadata": {},
   "outputs": [],
   "source": [
    "# Run this cell, but please don't change it.\n",
    " \n",
    "# These lines import the Numpy and Datascience modules.\n",
    "import numpy as np\n",
    "from datascience import *\n",
    "\n",
    "# These lines do some fancy plotting magic\n",
    "import matplotlib\n",
    "%matplotlib inline\n",
    "import matplotlib.pyplot as plt\n",
    "plt.style.use('fivethirtyeight')\n",
    "import warnings\n",
    "warnings.simplefilter('ignore', FutureWarning)\n",
    "from matplotlib import patches\n",
    "from ipywidgets import interact, interactive, fixed\n",
    "import ipywidgets as widgets\n"
   ]
  },
  {
   "cell_type": "markdown",
   "metadata": {},
   "source": [
    "## 1. What is the Therapeutic Touch\n",
    "\n",
    "The Therapeutic Touch (TT) is the idea that everyone can feel the Human Energy Field (HEF) around individuals.  Those who practice TT have described different people's HEFs as \"warm as Jell-O\" and \"tactile as taffy.\" \n",
    "\n",
    "TT was a popular technique used throughout the 20th century that was toted as a great way to bring balance to a person's health. Certain practitioners claim they have the ability to feel the HEF and can massage it in order to promote health and relaxation in individuals.\n",
    "\n",
    "### Emily Rosa\n",
    "\n",
    "[Emily Rosa](https://en.wikipedia.org/wiki/Emily_Rosa) was a 4th grade student who was very familiar with the world of TT, thanks to her parents, who were both medical practitioners and skeptics of TT.\n",
    "\n",
    "For her 4th grade science fair project, Emily decided to test whether or not TT practitioners could truly interact with a person's HEF. She later went on to publish her work in TT, becoming the youngest person to have a research paper published in a peer reviewed medical journal."
   ]
  },
  {
   "cell_type": "markdown",
   "metadata": {},
   "source": [
    "### Emily's Experiment\n",
    "\n",
    "Emily's experiment was clean, simple, and effective. Due to her parents' occupations in the medical field, she had wide access to people who claimed to be TT practitioners. \n",
    "\n",
    "Emily took 21 TT practitioners and used them for her science experiment. She would take a TT practitioner and ask them to extend their hands through a screen (which they can't see through). Emily would be on the other side and would flip a fair coin. Depending on how the coin landed, she would put out either her left hand or her right hand. The TT practitioner would then have to answer which hand Emily put out. If a pracitioner could truly interact with a person's HEF, it would be expected that they answered correctly.\n",
    "\n",
    "Overall, through 210 samples, the practitioner picked the correct hand 44% of the time. \n",
    "\n",
    "Emily's main goal here was to test whether or not the TT practicioners' guesses were random, like the flip of a coin. In most medical experiments, this is the norm. **We want to test whether or not the treatment has an effect, *not* whether or not the treatment actually works.**\n",
    "\n",
    "We will now begin to formulate this experiment in terms of the terminology we learned in this course. "
   ]
  },
  {
   "cell_type": "markdown",
   "metadata": {},
   "source": [
    "**Question 1.1**: Describe Emily’s [model](https://inferentialthinking.com/chapters/11/1/Assessing_a_Model.html) for how likely the TT practitioners are to choose the correct hand. What alternative model is her model meant to discredit?\n",
    "\n",
    "If you are able, check in with fellow peers, the discussion forum, or your lab TA/AIs, to come to a conclusion.\n"
   ]
  },
  {
   "cell_type": "markdown",
   "metadata": {},
   "source": [
    "they are 50% percent likely to choose the right answer becasue its a coin flip (H and T). She wants to discredit TT and show that it isn't psuedoscience."
   ]
  },
  {
   "cell_type": "markdown",
   "metadata": {},
   "source": [
    "**Question 1.2:** Remember that the practitioner got the correct answer 44% (0.44) of the time. According to Emily's model, on average, what proportion of times do we expect the practitioner to guess the correct hand? Make sure your answer is a number between 0 and 1. \n"
   ]
  },
  {
   "cell_type": "code",
   "execution_count": 86,
   "metadata": {
    "tags": []
   },
   "outputs": [
    {
     "data": {
      "text/plain": [
       "0.5"
      ]
     },
     "execution_count": 86,
     "metadata": {},
     "output_type": "execute_result"
    }
   ],
   "source": [
    "expected_proportion_correct = .5\n",
    "expected_proportion_correct"
   ]
  },
  {
   "cell_type": "code",
   "execution_count": 87,
   "metadata": {
    "deletable": false,
    "editable": false
   },
   "outputs": [
    {
     "data": {
      "text/html": [
       "<p><strong><pre style='display: inline;'>q1_2</pre></strong> passed! 🎉</p>"
      ],
      "text/plain": [
       "q1_2 results: All test cases passed!"
      ]
     },
     "execution_count": 87,
     "metadata": {},
     "output_type": "execute_result"
    }
   ],
   "source": [
    "grader.check(\"q1_2\")"
   ]
  },
  {
   "cell_type": "markdown",
   "metadata": {},
   "source": [
    "The goal now is to see if our deviation from this expected proportion of correct answers is due to something other than chance. \n",
    "\n",
    "**Question 1.3:** We usually use a statistic to help determine which model the evidence points towards. What is a statistic that we can use to compare outcomes under Emily’s model to what was observed? Assign `valid_stat` to an array of integer(s) representing test statistics that Emily can use: \n",
    "\n",
    "1. The difference between the expected percent correct and the actual percent correct\n",
    "2. The absolute difference between the expected percent correct and the actual percent correct\n",
    "3. The sum of the expected percent correct and the actual percent correct\n",
    "\n",
    "**NOTE:** Make sure to use `make_array` to create your array of integer(s)!\n",
    "\n",
    "> *Hint*: What should the domain (possible x values) be for the distribution of our test statistics?\n"
   ]
  },
  {
   "cell_type": "code",
   "execution_count": 88,
   "metadata": {
    "tags": []
   },
   "outputs": [
    {
     "data": {
      "text/plain": [
       "array([2])"
      ]
     },
     "execution_count": 88,
     "metadata": {},
     "output_type": "execute_result"
    }
   ],
   "source": [
    "valid_stat = make_array(2)\n",
    "valid_stat"
   ]
  },
  {
   "cell_type": "code",
   "execution_count": 89,
   "metadata": {
    "deletable": false,
    "editable": false
   },
   "outputs": [
    {
     "data": {
      "text/html": [
       "<p><strong><pre style='display: inline;'>q1_3</pre></strong> passed! 🎉</p>"
      ],
      "text/plain": [
       "q1_3 results: All test cases passed!"
      ]
     },
     "execution_count": 89,
     "metadata": {},
     "output_type": "execute_result"
    }
   ],
   "source": [
    "grader.check(\"q1_3\")"
   ]
  },
  {
   "cell_type": "markdown",
   "metadata": {},
   "source": [
    "**Question 1.4:** Why is the statistic from Question 1.3 the appropriate choice for comparing outcomes in Emily's experiment? How does it relate to the models you defined in Question 1.1?\n"
   ]
  },
  {
   "cell_type": "markdown",
   "metadata": {},
   "source": [
    "It shows how far off the expected value compared to the value of the experiment without it being negative. It will show if the subjects really can tell using eletric waves where the coin is with actual accuracy or if it is just luck"
   ]
  },
  {
   "cell_type": "markdown",
   "metadata": {},
   "source": [
    "**Question 1.5:** Define the function `statistic` which takes in an expected proportion and an actual proportion, and returns the value of the statistic chosen in Question 1.3. Assume that the argument takes in proportions, but  return your answer as a percentage. \n",
    "\n",
    "*Hint:* Remember we are asking for a **percentage**, not a proportion. \n"
   ]
  },
  {
   "cell_type": "code",
   "execution_count": 90,
   "metadata": {
    "tags": []
   },
   "outputs": [],
   "source": [
    "#def statistic(expected_prop, actual_prop):\n",
    "#    array = make_array(expected_prop, 1 - expected_prop)\n",
    "#    expected = sample_proportions(10, array)\n",
    "#    value = expected.item(0) - actual_prop\n",
    "#    abs_value = abs(value) * 100\n",
    "#    return abs_value \n",
    "#\n",
    "#statistic(.5,.44)\n",
    "\n",
    "def statistic(expected_prop, actual_prop):\n",
    "    return abs((expected_prop - actual_prop)*100)"
   ]
  },
  {
   "cell_type": "code",
   "execution_count": 91,
   "metadata": {
    "deletable": false,
    "editable": false
   },
   "outputs": [
    {
     "data": {
      "text/html": [
       "<p><strong><pre style='display: inline;'>q1_5</pre></strong> passed! 🍀</p>"
      ],
      "text/plain": [
       "q1_5 results: All test cases passed!"
      ]
     },
     "execution_count": 91,
     "metadata": {},
     "output_type": "execute_result"
    }
   ],
   "source": [
    "grader.check(\"q1_5\")"
   ]
  },
  {
   "cell_type": "markdown",
   "metadata": {},
   "source": [
    "**Question 1.6:** Use your newly defined function to calculate the observed statistic from Emily's experiment. \n"
   ]
  },
  {
   "cell_type": "code",
   "execution_count": 92,
   "metadata": {
    "tags": []
   },
   "outputs": [
    {
     "data": {
      "text/plain": [
       "6.0"
      ]
     },
     "execution_count": 92,
     "metadata": {},
     "output_type": "execute_result"
    }
   ],
   "source": [
    "observed_statistic = statistic(.5,.44)\n",
    "observed_statistic"
   ]
  },
  {
   "cell_type": "code",
   "execution_count": 93,
   "metadata": {
    "deletable": false,
    "editable": false
   },
   "outputs": [
    {
     "data": {
      "text/html": [
       "<p><strong><pre style='display: inline;'>q1_6</pre></strong> passed! 🌈</p>"
      ],
      "text/plain": [
       "q1_6 results: All test cases passed!"
      ]
     },
     "execution_count": 93,
     "metadata": {},
     "output_type": "execute_result"
    }
   ],
   "source": [
    "grader.check(\"q1_6\")"
   ]
  },
  {
   "cell_type": "markdown",
   "metadata": {},
   "source": [
    "**Is this observed statistic consistent with what we expect to see under Emily’s model?**\n",
    "\n",
    "In order to answer this question, we must simulate the experiment as though Emily's model was correct, and calculate our statistic for every simulation.\n",
    "\n",
    "### `sample_proportions`\n",
    "\n",
    "`sample_proportions` can be used to randomly sample from multiple categories when you know the proportion of data points that are expected to fall in each category. `sample_proportions` takes two arguments: the sample size and an array of proportions corresponding to each category in the population (should sum to 1).\n",
    "\n",
    "Consider flipping a fair coin, where the two outcomes (coin lands heads and coin lands tails) occur with an equal chance. We expect that half of all coin flips will land heads, and half of all coin flips will land tails.\n",
    "\n",
    "Run the following cell to see the simulation of 10 flips of a fair coin. Let the first item of `coin_proportions` be the proportion of heads and the second item of `coin_proportions` be the proportion of tails.\n",
    "\n",
    "*Observe what happens when you run this cell multiple times—the proportion of coin flips that land heads and tails appears to change, as you are simulating flipping 10 coins each time!*"
   ]
  },
  {
   "cell_type": "code",
   "execution_count": 94,
   "metadata": {},
   "outputs": [
    {
     "data": {
      "text/plain": [
       "array([ 0.5,  0.5])"
      ]
     },
     "execution_count": 94,
     "metadata": {},
     "output_type": "execute_result"
    }
   ],
   "source": [
    "coin_proportions = make_array(0.5, 0.5) \n",
    "ten_flips = sample_proportions(10, coin_proportions)\n",
    "ten_flips"
   ]
  },
  {
   "cell_type": "markdown",
   "metadata": {},
   "source": [
    "`sample_proportions` returns an array that is the same length as the proportion array that is passed through. It contains the proportion of each category that appears in the sample. \n",
    "\n",
    "In our example, the first item of `ten_flips` is the simulated proportion of heads and the second item of `ten_flips` is the simulated proportion of tails."
   ]
  },
  {
   "cell_type": "code",
   "execution_count": 95,
   "metadata": {},
   "outputs": [
    {
     "name": "stdout",
     "output_type": "stream",
     "text": [
      "In our simulation, 0.5 of flips were heads and 0.5 of flips were tails.\n"
     ]
    }
   ],
   "source": [
    "simulated_proportion_heads = ten_flips.item(0)\n",
    "simulated_proportion_tails = ten_flips.item(1)\n",
    "\n",
    "print(\"In our simulation, \" + str(simulated_proportion_heads) + \" of flips were heads and \" \\\n",
    "      + str(simulated_proportion_tails) + \" of flips were tails.\")"
   ]
  },
  {
   "cell_type": "markdown",
   "metadata": {},
   "source": [
    "**Question 1.7:** To begin simulating, we should start by creating a representation of Emily's model to use for our simulation. This will be an array with two items in it. The first item should be the proportion of times a TT practictioner picks the correct hand, assuming that Emily’s model was correct. The second item should be the proportion of times, under the same assumption, that the TT practitioner picks the incorrect hand. Assign `model_proportions` to this array. \n",
    "\n",
    "After this, we can simulate 210 hand choices, as Emily evaluated in real life, and find a single statistic to summarize this instance of the simulation. Use the `sample_proportions` function and assign the **proportion of correct hand choices** (out of 210) to `simulation_proportion_correct`. Lastly, use your `statistic` function to assign `one_statistic`  to the value of the statistic for this one simulation.\n",
    "\n",
    "*Hint:* `sample_proportions` usage can be found on the [Python Reference](https://www.data8.org/sp24/reference/).\n"
   ]
  },
  {
   "cell_type": "code",
   "execution_count": 96,
   "metadata": {
    "tags": []
   },
   "outputs": [
    {
     "data": {
      "text/plain": [
       "0.9523809523809545"
      ]
     },
     "execution_count": 96,
     "metadata": {},
     "output_type": "execute_result"
    }
   ],
   "source": [
    "\n",
    "np.random.seed(16)\n",
    "\n",
    "model_proportions = [0.5, 0.5]  \n",
    "simulation_results = sample_proportions(210, model_proportions)\n",
    "simulation_proportion_correct = float(simulation_results[0])\n",
    "expected_proportion_correct = 0.5\n",
    "one_statistic = statistic(simulation_proportion_correct, expected_proportion_correct) \n",
    "\n",
    "one_statistic\n"
   ]
  },
  {
   "cell_type": "code",
   "execution_count": 97,
   "metadata": {
    "deletable": false,
    "editable": false
   },
   "outputs": [
    {
     "data": {
      "text/html": [
       "<p><strong><pre style='display: inline;'>q1_7</pre></strong> passed! 🌈</p>"
      ],
      "text/plain": [
       "q1_7 results: All test cases passed!"
      ]
     },
     "execution_count": 97,
     "metadata": {},
     "output_type": "execute_result"
    }
   ],
   "source": [
    "grader.check(\"q1_7\")"
   ]
  },
  {
   "attachments": {},
   "cell_type": "markdown",
   "metadata": {},
   "source": [
    "**Question 1.8:** Let's now see what the distribution of statistics is actually like under Emily's model. \n",
    "\n",
    "Define the function `simulation_and_statistic` to take in the `model_proportions` array and the expected proportion of times a TT practitioner would guess a hand correctly under Emily's model. The function should simulate Emily running through the experiment 210 times and return the statistic of this one simulation. \n",
    "\n",
    "*Hint:* This should follow the same pattern as the code you did in the previous problem.  "
   ]
  },
  {
   "cell_type": "code",
   "execution_count": 98,
   "metadata": {
    "tags": []
   },
   "outputs": [
    {
     "data": {
      "text/plain": [
       "12.19047619047619"
      ]
     },
     "execution_count": 98,
     "metadata": {},
     "output_type": "execute_result"
    }
   ],
   "source": [
    "\n",
    "def simulation_and_statistic(model_proportions, actual_proportion_correct):\n",
    "    \n",
    "    simulation_results = sample_proportions(210, model_proportions)\n",
    "    \n",
    "    simulation_proportion_correct = float(simulation_results[0])\n",
    "    \n",
    "    one_statistic = statistic(simulation_proportion_correct, actual_proportion_correct)\n",
    "    \n",
    "    return one_statistic\n",
    "\n",
    "\n",
    "result_statistic = simulation_and_statistic(model_proportions, .44)\n",
    "result_statistic\n"
   ]
  },
  {
   "cell_type": "code",
   "execution_count": 99,
   "metadata": {
    "tags": []
   },
   "outputs": [
    {
     "data": {
      "text/plain": [
       "array([  8.85714286,   4.57142857,   0.76190476,   0.19047619,\n",
       "         6.95238095,   5.52380952,   1.71428571,   0.19047619,\n",
       "         9.33333333,   2.66666667,   2.19047619,   7.9047619 ,\n",
       "         8.85714286,   4.0952381 ,   8.38095238,   6.47619048,\n",
       "         9.80952381,   1.71428571,   6.47619048,  12.66666667,\n",
       "         4.57142857,   1.71428571,   4.0952381 ,   6.        ,\n",
       "         8.85714286,   4.57142857,   8.85714286,   4.0952381 ,\n",
       "         1.14285714,   2.66666667,   3.14285714,  13.14285714,\n",
       "         5.04761905,   5.04761905,   3.61904762,   2.19047619,\n",
       "         5.52380952,   5.52380952,   0.28571429,   6.47619048,\n",
       "         7.9047619 ,   1.23809524,   5.52380952,   3.14285714,\n",
       "         4.57142857,   3.61904762,   4.57142857,   6.95238095,\n",
       "         3.61904762,   9.80952381,  11.71428571,  12.19047619,\n",
       "         3.61904762,  15.04761905,   9.33333333,   8.38095238,\n",
       "         1.14285714,  10.28571429,   6.95238095,   4.0952381 ,\n",
       "         6.47619048,   1.23809524,   9.80952381,   8.85714286,\n",
       "         3.14285714,   5.52380952,   9.80952381,   4.57142857,\n",
       "         7.9047619 ,   4.57142857,   6.47619048,   1.71428571,\n",
       "         5.04761905,   5.52380952,   3.14285714,   4.57142857,\n",
       "         6.        ,   6.47619048,   5.04761905,   6.        ,\n",
       "         4.0952381 ,   9.80952381,   0.19047619,   6.        ,\n",
       "         5.52380952,   6.        ,   3.61904762,   7.42857143,\n",
       "         1.61904762,   3.14285714,   4.57142857,   5.04761905,\n",
       "         5.04761905,   1.61904762,  12.19047619,   3.61904762,\n",
       "        10.76190476,   6.47619048,   6.        ,   9.33333333,\n",
       "         6.        ,   0.28571429,   2.19047619,   3.14285714,\n",
       "         1.71428571,  10.28571429,  10.28571429,  10.76190476,\n",
       "         4.0952381 ,   3.61904762,   8.38095238,   1.71428571,\n",
       "         5.52380952,   3.14285714,   7.9047619 ,   0.28571429,\n",
       "         2.66666667,   4.0952381 ,   4.57142857,   3.14285714,\n",
       "         8.38095238,   7.42857143,   8.85714286,   3.14285714,\n",
       "         1.71428571,   6.47619048,  13.14285714,  10.76190476,\n",
       "         6.        ,   1.71428571,   9.80952381,   2.19047619,\n",
       "         9.33333333,  12.66666667,   6.        ,   0.19047619,\n",
       "         3.61904762,   3.14285714,   5.04761905,   5.52380952,\n",
       "         4.57142857,   3.14285714,   4.0952381 ,   6.        ,\n",
       "         4.57142857,   3.14285714,   6.        ,   6.95238095,\n",
       "         8.38095238,   0.76190476,   3.61904762,   6.47619048,\n",
       "         9.33333333,   5.04761905,   6.95238095,   6.95238095,\n",
       "         7.9047619 ,   4.57142857,   6.47619048,   7.42857143,\n",
       "         5.52380952,   6.        ,   4.0952381 ,   4.57142857,\n",
       "         8.38095238,   6.        ,   8.85714286,   4.0952381 ,\n",
       "         6.        ,   6.47619048,   4.0952381 ,   9.33333333,\n",
       "         6.47619048,   9.80952381,   4.57142857,   6.        ,\n",
       "         8.38095238,   2.19047619,  10.28571429,   6.95238095,\n",
       "         3.61904762,   3.14285714,   1.71428571,   2.19047619,\n",
       "         4.57142857,   0.66666667,  11.71428571,   7.9047619 ,\n",
       "         3.61904762,   5.52380952,   5.04761905,   6.47619048,\n",
       "         6.        ,   8.38095238,   3.61904762,  11.71428571,\n",
       "         0.76190476,   0.76190476,   7.9047619 ,   0.19047619,\n",
       "         9.33333333,   6.95238095,   9.33333333,   3.14285714,\n",
       "         3.61904762,   3.61904762,   2.66666667,   6.95238095,\n",
       "         4.57142857,   3.61904762,   6.        ,   8.85714286,\n",
       "         7.42857143,   4.57142857,   4.57142857,   0.19047619,\n",
       "         6.47619048,   1.23809524,   0.76190476,   6.47619048,\n",
       "         0.76190476,   3.61904762,   5.04761905,   0.28571429,\n",
       "        10.76190476,   2.66666667,   3.14285714,   7.42857143,\n",
       "         6.        ,   9.80952381,   6.        ,   5.52380952,\n",
       "         9.33333333,   5.52380952,   6.47619048,   5.04761905,\n",
       "         2.19047619,   3.14285714,   6.95238095,   8.38095238,\n",
       "         7.42857143,   2.19047619,   4.0952381 ,   7.9047619 ,\n",
       "         3.14285714,   8.85714286,   1.23809524,   9.80952381,\n",
       "         5.04761905,  10.28571429,   4.57142857,   4.57142857,\n",
       "         7.9047619 ,   7.9047619 ,   5.52380952,   3.61904762,\n",
       "         5.04761905,   5.04761905,   8.38095238,   3.61904762,\n",
       "         3.61904762,   5.04761905,   6.47619048,   6.47619048,\n",
       "         8.85714286,   7.9047619 ,   1.14285714,  11.71428571,\n",
       "         0.66666667,   6.47619048,   6.95238095,   3.61904762,\n",
       "        12.66666667,   9.33333333,   8.38095238,   3.14285714,\n",
       "         1.71428571,   3.61904762,   9.33333333,   7.42857143,\n",
       "         4.57142857,   8.85714286,   7.42857143,   6.        ,\n",
       "        13.14285714,   5.04761905,   3.61904762,   1.23809524,\n",
       "         7.9047619 ,   9.33333333,   6.        ,   9.33333333,\n",
       "        10.28571429,   0.28571429,   9.33333333,   2.0952381 ,\n",
       "         8.85714286,   0.28571429,   3.14285714,   4.0952381 ,\n",
       "         8.85714286,   2.66666667,   6.95238095,   4.0952381 ,\n",
       "         5.52380952,   5.04761905,  11.23809524,   3.61904762,\n",
       "         4.0952381 ,   9.33333333,   3.61904762,   2.66666667,\n",
       "         4.57142857,   3.61904762,   4.57142857,   4.0952381 ,\n",
       "        11.71428571,  12.66666667,   2.19047619,   6.47619048,\n",
       "         8.38095238,  11.71428571,   7.42857143,  10.28571429,\n",
       "         6.47619048,   5.04761905,   0.66666667,   6.        ,\n",
       "         8.85714286,   8.38095238,   4.57142857,   9.80952381,\n",
       "         4.0952381 ,   2.66666667,   2.66666667,   9.80952381,\n",
       "         8.85714286,   9.80952381,   7.9047619 ,   6.47619048,\n",
       "        12.66666667,   7.42857143,   6.        ,   6.47619048,\n",
       "        13.14285714,   3.14285714,   6.47619048,   5.52380952,\n",
       "         7.42857143,   9.80952381,   4.0952381 ,   4.57142857,\n",
       "         5.52380952,   1.61904762,   4.57142857,   5.52380952,\n",
       "         3.61904762,   0.19047619,   7.9047619 ,  11.23809524,\n",
       "         5.52380952,   6.        ,   3.61904762,   4.57142857,\n",
       "         5.52380952,   6.        ,   6.        ,   4.0952381 ,\n",
       "         2.19047619,   7.42857143,   6.95238095,   4.0952381 ,\n",
       "         2.66666667,   5.04761905,   2.19047619,   8.38095238,\n",
       "         7.9047619 ,   8.85714286,   1.23809524,   9.33333333,\n",
       "        11.71428571,   4.57142857,  14.0952381 ,   3.61904762,\n",
       "         7.9047619 ,   6.95238095,   1.23809524,   5.04761905,\n",
       "         0.28571429,   6.95238095,   8.38095238,   3.14285714,\n",
       "         2.19047619,   5.52380952,   7.42857143,  10.28571429,\n",
       "         6.        ,  11.71428571,   4.0952381 ,   6.        ,\n",
       "         2.19047619,  10.28571429,   0.28571429,   0.76190476,\n",
       "         5.52380952,   0.28571429,   7.42857143,   5.52380952,\n",
       "         9.33333333,  10.28571429,   5.04761905,   9.33333333,\n",
       "         7.42857143,   3.14285714,   4.57142857,   7.42857143,\n",
       "         7.9047619 ,   6.95238095,   0.76190476,   2.66666667,\n",
       "         6.        ,   2.19047619,   5.04761905,   7.9047619 ,\n",
       "         3.14285714,   8.85714286,   8.85714286,   3.14285714,\n",
       "         6.95238095,   6.47619048,   0.19047619,   8.38095238,\n",
       "         8.38095238,   6.95238095,  12.19047619,   8.38095238,\n",
       "         5.52380952,  11.23809524,   8.38095238,   4.0952381 ,\n",
       "         6.95238095,   2.66666667,   6.        ,  10.28571429,\n",
       "         6.95238095,   8.38095238,   0.76190476,   3.14285714,\n",
       "         7.42857143,   7.9047619 ,   6.47619048,   6.95238095,\n",
       "         5.52380952,   5.52380952,   5.04761905,  10.76190476,\n",
       "         7.42857143,   6.95238095,   6.47619048,  11.23809524,\n",
       "         6.        ,   6.        ,  11.71428571,  11.23809524,\n",
       "         8.38095238,   5.52380952,   5.52380952,   5.04761905,\n",
       "        10.76190476,   5.52380952,   3.61904762,   6.47619048,\n",
       "         0.66666667,   7.9047619 ,  13.14285714,   2.66666667,\n",
       "         4.0952381 ,   1.23809524,   5.52380952,   8.85714286,\n",
       "         7.9047619 ,   5.52380952,   8.85714286,   7.42857143,\n",
       "         3.61904762,   5.04761905,   4.57142857,   6.47619048,\n",
       "         5.04761905,   8.85714286,   6.95238095,   6.47619048,\n",
       "         7.42857143,   8.85714286,   1.61904762,   8.38095238,\n",
       "        14.0952381 ,   5.52380952,   7.9047619 ,   7.9047619 ,\n",
       "         3.14285714,   8.85714286,   3.61904762,   5.52380952,\n",
       "         6.        ,   8.38095238,   0.76190476,  11.23809524,\n",
       "         6.95238095,   9.33333333,  10.76190476,   3.14285714,\n",
       "         2.66666667,   3.14285714,   4.57142857,  13.61904762,\n",
       "         3.61904762,   0.19047619,   1.23809524,   6.95238095,\n",
       "         7.42857143,   6.95238095,   6.        ,   3.61904762,\n",
       "        11.23809524,  14.57142857,   8.38095238,   8.38095238,\n",
       "         4.57142857,   1.71428571,   5.04761905,   4.57142857,\n",
       "         8.38095238,   2.19047619,   1.71428571,  14.0952381 ,\n",
       "         6.47619048,   7.9047619 ,  10.76190476,   7.9047619 ,\n",
       "         8.38095238,   6.95238095,   3.14285714,   6.        ,\n",
       "        13.61904762,   0.76190476,   4.57142857,   1.23809524,\n",
       "         4.0952381 ,   6.47619048,  12.19047619,  12.19047619,\n",
       "         9.33333333,   0.28571429,   0.28571429,   5.04761905,\n",
       "         2.66666667,   4.0952381 ,   5.04761905,   8.85714286,\n",
       "        11.23809524,  12.66666667,   7.9047619 ,   0.76190476,\n",
       "         4.0952381 ,  10.76190476,   2.0952381 ,   5.04761905,\n",
       "        11.23809524,   7.42857143,   8.38095238,   4.57142857,\n",
       "         3.61904762,   9.80952381,   6.95238095,   7.42857143,\n",
       "         6.95238095,   2.19047619,   6.47619048,   3.14285714,\n",
       "         6.47619048,   4.57142857,   6.47619048,   8.38095238,\n",
       "        10.76190476,   6.47619048,   1.23809524,   1.61904762,\n",
       "         7.9047619 ,   6.47619048,   1.61904762,  11.23809524,\n",
       "         6.        ,   3.14285714,  10.76190476,  10.28571429,\n",
       "         2.66666667,   7.9047619 ,   8.38095238,   9.33333333,\n",
       "         8.38095238,   3.14285714,   4.57142857,   6.95238095,\n",
       "         3.61904762,   7.42857143,   1.23809524,   6.95238095,\n",
       "         4.57142857,   1.23809524,   3.14285714,   5.04761905,\n",
       "         7.9047619 ,   7.9047619 ,   6.        ,   5.04761905,\n",
       "         6.        ,   0.19047619,   0.19047619,   3.61904762,\n",
       "         7.9047619 ,   2.0952381 ,   8.85714286,   6.95238095,\n",
       "         6.        ,   8.85714286,   0.28571429,   8.85714286,\n",
       "         8.38095238,   8.38095238,   9.33333333,   4.57142857,\n",
       "         8.38095238,   7.42857143,   6.47619048,   4.0952381 ,\n",
       "         2.19047619,  11.71428571,   6.        ,   4.0952381 ,\n",
       "         0.76190476,   7.42857143,  10.76190476,   5.52380952,\n",
       "         8.85714286,   6.47619048,   3.14285714,   0.19047619,\n",
       "         3.14285714,   5.52380952,   2.19047619,  10.28571429,\n",
       "         9.80952381,   6.95238095,   2.66666667,   7.42857143,\n",
       "         5.04761905,   6.        ,   7.9047619 ,   1.71428571,\n",
       "         4.0952381 ,   8.38095238,   6.95238095,   4.57142857,\n",
       "         1.23809524,   5.04761905,   5.04761905,   6.95238095,\n",
       "         8.85714286,   8.85714286,   2.19047619,   6.95238095,\n",
       "         6.        ,   6.        ,  11.71428571,   3.61904762,\n",
       "         5.04761905,   6.47619048,  10.28571429,   4.0952381 ,\n",
       "         4.57142857,   9.80952381,   7.9047619 ,   1.61904762,\n",
       "         9.33333333,   7.42857143,   7.9047619 ,   2.19047619,\n",
       "         2.66666667,   9.80952381,   1.71428571,   9.80952381,\n",
       "        15.04761905,   0.76190476,   3.14285714,  11.23809524,\n",
       "        12.19047619,   9.80952381,   2.66666667,   2.19047619,\n",
       "         7.9047619 ,  14.0952381 ,   3.14285714,   0.66666667,\n",
       "        10.28571429,   5.04761905,   2.19047619,   5.52380952,\n",
       "         4.57142857,   6.95238095,   9.33333333,   5.04761905,\n",
       "         6.47619048,   5.04761905,   8.38095238,   2.19047619,\n",
       "         8.38095238,   1.71428571,   0.66666667,   5.04761905,\n",
       "         5.04761905,   5.04761905,   4.57142857,   1.23809524,\n",
       "         8.38095238,  11.71428571,  14.57142857,   3.14285714,\n",
       "         0.19047619,   6.47619048,   2.66666667,   5.04761905,\n",
       "         5.04761905,   1.71428571,   8.38095238,  10.28571429,\n",
       "         3.14285714,  10.28571429,   6.        ,   1.14285714,\n",
       "         3.61904762,   3.14285714,   7.42857143,   7.9047619 ,\n",
       "         2.66666667,   1.71428571,   7.9047619 ,   6.        ,\n",
       "         4.0952381 ,   8.38095238,   1.71428571,   7.9047619 ,\n",
       "         8.85714286,   8.85714286,  11.23809524,   4.57142857,\n",
       "         3.61904762,  10.28571429,   6.        ,  14.0952381 ,\n",
       "         5.52380952,   0.66666667,   4.0952381 ,   5.52380952,\n",
       "         1.14285714,   3.61904762,   9.33333333,   1.71428571,\n",
       "         8.38095238,   6.        ,   7.42857143,   5.04761905,\n",
       "         9.33333333,   7.9047619 ,   4.0952381 ,   1.61904762,\n",
       "         0.76190476,   6.95238095,   8.85714286,   5.52380952,\n",
       "        13.14285714,   8.38095238,  11.71428571,   9.33333333,\n",
       "         5.04761905,   9.33333333,   7.9047619 ,   9.80952381,\n",
       "        10.76190476,   7.42857143,   4.57142857,   4.57142857,\n",
       "         1.23809524,   6.95238095,   7.9047619 ,   0.66666667,\n",
       "         7.9047619 ,   7.9047619 ,   2.66666667,   7.9047619 ,\n",
       "         6.        ,   3.61904762,   3.61904762,   7.42857143,\n",
       "         7.42857143,   7.9047619 ,   6.47619048,  10.76190476,\n",
       "         0.19047619,   4.0952381 ,   5.52380952,   2.66666667,\n",
       "         6.47619048,   1.23809524,  12.19047619,   1.14285714,\n",
       "         6.        ,   6.95238095,   1.23809524,   1.71428571,\n",
       "        13.61904762,   1.71428571,   9.80952381,   8.85714286,\n",
       "         4.57142857,  11.23809524,   9.33333333,   6.47619048,\n",
       "         5.52380952,   1.23809524,   2.19047619,   4.57142857,\n",
       "         1.14285714,   6.47619048,   6.47619048,   8.38095238,\n",
       "         2.19047619,   4.0952381 ,   6.        ,   5.04761905,\n",
       "         0.76190476,   1.23809524,   8.85714286,   4.57142857,\n",
       "         4.57142857,   1.71428571,   0.19047619,   3.61904762,\n",
       "         5.04761905,   3.04761905,   7.42857143,   8.38095238,\n",
       "         6.        ,   0.28571429,  11.23809524,   8.38095238,\n",
       "         9.80952381,   3.04761905,   6.95238095,   4.57142857,\n",
       "         7.9047619 ,   2.0952381 ,   6.47619048,   8.85714286,\n",
       "         2.66666667,   1.23809524,   6.47619048,   4.0952381 ,\n",
       "         3.61904762,   3.61904762,   5.52380952,   9.80952381,\n",
       "         6.        ,   0.76190476,   8.38095238,   8.38095238,\n",
       "         0.76190476,   1.71428571,   9.33333333,   8.85714286,\n",
       "         5.04761905,   7.42857143,   2.66666667,   4.57142857,\n",
       "         8.38095238,   9.33333333,   7.9047619 ,   5.52380952,\n",
       "         0.19047619,   2.66666667,  16.        ,   9.33333333,\n",
       "         6.47619048,   1.71428571,   2.57142857,   4.0952381 ,\n",
       "         8.38095238,   3.14285714,   9.80952381,   3.61904762,\n",
       "         7.42857143,   6.        ,   0.76190476,   8.38095238,\n",
       "         5.04761905,  10.28571429,  10.28571429,   2.66666667,\n",
       "         2.66666667,   6.        ,  11.23809524,   0.19047619,\n",
       "         4.0952381 ,   4.57142857,   7.9047619 ,   5.52380952,\n",
       "         7.42857143,  12.19047619,   8.38095238,  11.23809524,\n",
       "         9.80952381,  10.76190476,   9.33333333,   8.38095238,\n",
       "         2.19047619,  14.57142857,   6.47619048,   0.76190476,\n",
       "         6.95238095,   7.9047619 ,   2.66666667,   9.33333333,\n",
       "        10.76190476,   4.57142857,   1.71428571,   9.80952381,\n",
       "         5.52380952,   2.19047619,   4.57142857,   2.19047619,\n",
       "         7.9047619 ,   7.42857143,   8.85714286,   7.9047619 ,\n",
       "         6.95238095,   9.80952381,   5.52380952,  11.71428571,\n",
       "         2.66666667,   5.04761905,   4.0952381 ,   6.47619048,\n",
       "         6.        ,  10.28571429,   5.04761905,   4.0952381 ,\n",
       "         7.9047619 ,   4.57142857,   3.04761905,   1.71428571,\n",
       "         1.23809524,   3.61904762,   5.04761905,   2.19047619,\n",
       "         1.61904762,   5.04761905,  15.04761905,   2.19047619,\n",
       "         4.0952381 ,   7.9047619 ,   0.28571429,   7.9047619 ,\n",
       "         4.57142857,   5.04761905,   6.47619048,   3.14285714,\n",
       "         4.0952381 ,   1.71428571,  10.28571429,   6.95238095,\n",
       "         7.9047619 ,  12.19047619,   5.04761905,   6.95238095,\n",
       "         6.        ,   3.61904762,   6.47619048,  12.66666667,\n",
       "         0.66666667,  12.19047619,   5.04761905,   6.95238095,\n",
       "         4.57142857,   0.28571429,   6.        ,   4.57142857,\n",
       "         5.52380952,   7.9047619 ,   9.33333333,   4.57142857])"
      ]
     },
     "execution_count": 99,
     "metadata": {},
     "output_type": "execute_result"
    }
   ],
   "source": [
    "num_repetitions = 1000\n",
    "\n",
    "\n",
    "simulated_statistics = make_array()\n",
    "\n",
    "for i in np.arange(num_repetitions):\n",
    "\n",
    "    one_statistic = simulation_and_statistic(model_proportions, 0.44)\n",
    "    \n",
    "    simulated_statistics = np.append(simulated_statistics, one_statistic) \n",
    "\n",
    "\n",
    "simulated_statistics\n"
   ]
  },
  {
   "cell_type": "code",
   "execution_count": 100,
   "metadata": {
    "deletable": false,
    "editable": false
   },
   "outputs": [
    {
     "data": {
      "text/html": [
       "<p><strong><pre style='display: inline;'>q1_8</pre></strong> passed! 🌟</p>"
      ],
      "text/plain": [
       "q1_8 results: All test cases passed!"
      ]
     },
     "execution_count": 100,
     "metadata": {},
     "output_type": "execute_result"
    }
   ],
   "source": [
    "grader.check(\"q1_8\")"
   ]
  },
  {
   "cell_type": "markdown",
   "metadata": {},
   "source": [
    "Let's view the distribution of the simulated statistics under Emily's model, and visually compare where the observed statistic lies relative to the simulated statistics."
   ]
  },
  {
   "cell_type": "code",
   "execution_count": 101,
   "metadata": {},
   "outputs": [
    {
     "data": {
      "image/png": "[encoded data removed]",
      "text/plain": [
       "<Figure size 600x400 with 1 Axes>"
      ]
     },
     "metadata": {},
     "output_type": "display_data"
    }
   ],
   "source": [
    "t = Table().with_column('Simulated Statistics', simulated_statistics)\n",
    "t.hist()\n",
    "plt.scatter(observed_statistic, 0, color='red', s=100, zorder=2);"
   ]
  },
  {
   "cell_type": "markdown",
   "metadata": {},
   "source": [
    "We can make a visual argument as to whether we believe the observed statistic is consistent with Emily’s model. Here, since larger values of the test statistic suggest the alternative model (where the chance of guessing the correct hand is something other than 50%), we can formalize our analysis by finding what proportion of simulated statistics were as large or larger than our observed test statistic (the area at or to the right of the observed test statistic). If this area is small enough, we’ll declare that the observed data are inconsistent with our simulated model. Here is the [link](https://inferentialthinking.com/chapters/11/1/Assessing_a_Model.html) to the section in the textbook."
   ]
  },
  {
   "cell_type": "markdown",
   "metadata": {},
   "source": [
    "**Question 1.9:** Calculate the proportion of simulated statistics in Question 1.8 greater than or equal to the observed statistic. \n",
    "\n",
    "*Hint:* `np.count_nonzero` usage can be found [here](https://www.data8.org/sp24/reference/#array-functions-and-methods).\n"
   ]
  },
  {
   "cell_type": "code",
   "execution_count": 102,
   "metadata": {
    "scrolled": true,
    "tags": []
   },
   "outputs": [
    {
     "data": {
      "text/plain": [
       "0.509"
      ]
     },
     "execution_count": 102,
     "metadata": {},
     "output_type": "execute_result"
    }
   ],
   "source": [
    "proportion_greater_or_equal = np.count_nonzero(simulated_statistics >= 6) / 1000\n",
    "proportion_greater_or_equal"
   ]
  },
  {
   "cell_type": "code",
   "execution_count": 103,
   "metadata": {
    "deletable": false,
    "editable": false
   },
   "outputs": [
    {
     "data": {
      "text/html": [
       "<p><strong><pre style='display: inline;'>q1_9</pre></strong> passed! 🌟</p>"
      ],
      "text/plain": [
       "q1_9 results: All test cases passed!"
      ]
     },
     "execution_count": 103,
     "metadata": {},
     "output_type": "execute_result"
    }
   ],
   "source": [
    "grader.check(\"q1_9\")"
   ]
  },
  {
   "cell_type": "markdown",
   "metadata": {},
   "source": [
    "By convention, we often compare the proportion we just calculated to 0.05. If the proportion of simulated statistics greater than or equal to the observed statistic is sufficiently small (less than or equal to 0.05), then this is evidence against Emily's model. Conceptually, you may think of this as the case where less than 5% of simulated values are as far or farther away from what we had expected. If this is not the case, we don’t have any reason to doubt Emily’s model. \n",
    "\n",
    "This should help you make your own conclusions about Emily Rosa's experiment. \n",
    "\n",
    "Therapeutic touch fell out of use after this experiment, which was eventually accepted into one of the premier medical journals. TT practitioners hit back and accused Emily and her family of tampering with the results, while some claimed that Emily's bad spiritual mood towards therapeutic touch made it difficult to read her HEF. Whatever it may be, Emily's experiment is a classic example about how anyone, with the right resources, can test anything they want!"
   ]
  },
  {
   "cell_type": "markdown",
   "metadata": {},
   "source": [
    " "
   ]
  }
 ],
 "metadata": {
  "kernelspec": {
   "display_name": "Python 3",
   "language": "python",
   "name": "python3"
  },
  "language_info": {
   "codemirror_mode": {
    "name": "ipython",
    "version": 3
   },
   "file_extension": ".py",
   "mimetype": "text/x-python",
   "name": "python",
   "nbconvert_exporter": "python",
   "pygments_lexer": "ipython3",
   "version": "3.12.1"
  },
  "otter": {
   "OK_FORMAT": true,
   "tests": {
    "q1_10": {
     "name": "q1_10",
     "points": null,
     "suites": [
      {
       "cases": [
        {
         "code": ">>> peer_talk == True\nTrue",
         "hidden": false,
         "locked": false
        }
       ],
       "scored": true,
       "setup": "",
       "teardown": "",
       "type": "doctest"
      }
     ]
    },
    "q1_2": {
     "name": "q1_2",
     "points": null,
     "suites": [
      {
       "cases": [
        {
         "code": ">>> 0 <= expected_proportion_correct <= 1\nTrue",
         "hidden": false,
         "locked": false
        },
        {
         "code": ">>> expected_proportion_correct == 0.5\nTrue",
         "hidden": false,
         "locked": false
        }
       ],
       "scored": true,
       "setup": "",
       "teardown": "",
       "type": "doctest"
      }
     ]
    },
    "q1_3": {
     "name": "q1_3",
     "points": null,
     "suites": [
      {
       "cases": [
        {
         "code": ">>> type(valid_stat) == np.ndarray\nTrue",
         "hidden": false,
         "locked": false
        },
        {
         "code": ">>> int(sum(valid_stat))\n2",
         "hidden": false,
         "locked": false
        }
       ],
       "scored": true,
       "setup": "",
       "teardown": "",
       "type": "doctest"
      }
     ]
    },
    "q1_5": {
     "name": "q1_5",
     "points": null,
     "suites": [
      {
       "cases": [
        {
         "code": ">>> int(round(statistic(.5,.5) + statistic(.4,.1),1))\n30",
         "hidden": false,
         "locked": false
        },
        {
         "code": ">>> int(statistic(.4,.1) - statistic(.1,.4))\n0",
         "hidden": false,
         "locked": false
        }
       ],
       "scored": true,
       "setup": "",
       "teardown": "",
       "type": "doctest"
      }
     ]
    },
    "q1_6": {
     "name": "q1_6",
     "points": null,
     "suites": [
      {
       "cases": [
        {
         "code": ">>> int(round(observed_statistic,2))\n6",
         "hidden": false,
         "locked": false
        }
       ],
       "scored": true,
       "setup": "",
       "teardown": "",
       "type": "doctest"
      }
     ]
    },
    "q1_7": {
     "name": "q1_7",
     "points": null,
     "suites": [
      {
       "cases": [
        {
         "code": ">>> len(model_proportions) % 2 == 0\nTrue",
         "hidden": false,
         "locked": false
        },
        {
         "code": ">>> len(np.unique(model_proportions))\n1",
         "hidden": false,
         "locked": false
        },
        {
         "code": ">>> sum(model_proportions) == 1\nTrue",
         "hidden": false,
         "locked": false
        },
        {
         "code": ">>> type(simulation_proportion_correct) == float\nTrue",
         "hidden": false,
         "locked": false
        },
        {
         "code": ">>> round(simulation_proportion_correct, 2)\n0.49",
         "hidden": false,
         "locked": false
        },
        {
         "code": ">>> round(one_statistic, 2) - 0.95 < 0.05\nTrue",
         "hidden": false,
         "locked": false
        }
       ],
       "scored": true,
       "setup": "",
       "teardown": "",
       "type": "doctest"
      }
     ]
    },
    "q1_8": {
     "name": "q1_8",
     "points": null,
     "suites": [
      {
       "cases": [
        {
         "code": ">>> len(simulated_statistics) == 1000\nTrue",
         "hidden": false,
         "locked": false
        },
        {
         "code": ">>> np.all(simulated_statistics <= 30)\nTrue",
         "hidden": false,
         "locked": false
        },
        {
         "code": ">>> np.all(simulated_statistics >= 0)\nTrue",
         "hidden": false,
         "locked": false
        },
        {
         "code": ">>> 0 <= simulation_and_statistic(model_proportions, expected_proportion_correct) <= 25\nTrue",
         "hidden": false,
         "locked": false
        }
       ],
       "scored": true,
       "setup": "",
       "teardown": "",
       "type": "doctest"
      }
     ]
    },
    "q1_9": {
     "name": "q1_9",
     "points": null,
     "suites": [
      {
       "cases": [
        {
         "code": ">>> 0 <= proportion_greater_or_equal <= 1\nTrue",
         "hidden": false,
         "locked": false
        },
        {
         "code": ">>> proportion_greater_or_equal*1000 == np.count_nonzero(simulated_statistics >= observed_statistic)\nTrue",
         "hidden": false,
         "locked": false
        }
       ],
       "scored": true,
       "setup": "",
       "teardown": "",
       "type": "doctest"
      }
     ]
    }
   }
  }
 },
 "nbformat": 4,
 "nbformat_minor": 5
}
